{
 "cells": [
  {
   "cell_type": "markdown",
   "metadata": {},
   "source": [
    "# Hello World!\n",
    "Simple example of how to instantiate a client and run a workflow in the FarmVibes.AI cluster. To install the required packages, see [this README file](README.md)."
   ]
  },
  {
   "cell_type": "code",
   "execution_count": 1,
   "metadata": {},
   "outputs": [],
   "source": [
    "from vibe_core.client import get_default_vibe_client\n",
    "import rasterio\n",
    "import matplotlib.pyplot as plt\n",
    "from datetime import datetime\n",
    "from shapely import geometry as shpg"
   ]
  },
  {
   "cell_type": "code",
   "execution_count": null,
   "metadata": {},
   "outputs": [
    {
     "data": {
      "text/html": [
       "<pre style=\"white-space:pre;overflow-x:auto;line-height:normal;font-family:Menlo,'DejaVu Sans Mono',consolas,'Courier New',monospace\"></pre>\n"
      ],
      "text/plain": []
     },
     "metadata": {},
     "output_type": "display_data"
    },
    {
     "data": {
      "application/vnd.jupyter.widget-view+json": {
       "model_id": "ff68f256b9e0456aa61288ad7b60e1fc",
       "version_major": 2,
       "version_minor": 0
      },
      "text/plain": [
       "Output()"
      ]
     },
     "metadata": {},
     "output_type": "display_data"
    }
   ],
   "source": [
    "client = get_default_vibe_client()\n",
    "# Recife - Brazil\n",
    "geometry = shpg.Point(-34.9, -8.05).buffer(.1)\n",
    "time_range = (datetime.now(), datetime.now())\n",
    "run = client.run(\"helloworld\", \"Hello world! 👋\", geometry=geometry, time_range=time_range)\n",
    "\n",
    "run.monitor()"
   ]
  },
  {
   "cell_type": "code",
   "execution_count": null,
   "metadata": {},
   "outputs": [],
   "source": [
    "with rasterio.open(run.output[\"raster\"][0].raster_asset.url) as src:\n",
    "    data_ar = src.read()\n",
    "\n",
    "plt.figure(figsize=(12, 6))\n",
    "plt.imshow(data_ar.transpose((1, 2, 0)))\n",
    "plt.show()"
   ]
  },
  {
   "cell_type": "code",
   "execution_count": null,
   "metadata": {},
   "outputs": [],
   "source": []
  }
 ],
 "metadata": {
  "description": "Simple example of how to instantiate a client and run a workflow.",
  "disk_space": "",
  "kernelspec": {
   "display_name": "Python 3 (ipykernel)",
   "language": "python",
   "name": "python3"
  },
  "language_info": {
   "codemirror_mode": {
    "name": "ipython",
    "version": 3
   },
   "file_extension": ".py",
   "mimetype": "text/x-python",
   "name": "python",
   "nbconvert_exporter": "python",
   "pygments_lexer": "ipython3",
   "version": "3.8.18"
  },
  "name": "Hello World",
  "running_time": "",
  "tags": [
   "01_Getting Started"
  ],
  "vscode": {
   "interpreter": {
    "hash": "c33f7eccc2e9a334585066468810d983e0954bfd57ca3c5a434b1adc3986f2e0"
   }
  }
 },
 "nbformat": 4,
 "nbformat_minor": 4
}
